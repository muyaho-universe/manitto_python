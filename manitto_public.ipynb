{
 "cells": [
  {
   "cell_type": "markdown",
   "id": "876a6072",
   "metadata": {},
   "source": [
    "# This code will generate  random manitto\n",
    "\n",
    "Edittor: Dale Kim\n",
    "Contact: naver@handong.ac.kr </br>\n",
    "Before use it, please check my ReadMe.md </br>\n",
    "https://github.com/muyaho-universe/manitto_python </br>\n",
    "### It also supports Korean!\n"
   ]
  },
  {
   "cell_type": "markdown",
   "id": "657e810b",
   "metadata": {},
   "source": [
    "### Step 1. import necessary libraries"
   ]
  },
  {
   "cell_type": "code",
   "execution_count": 3,
   "id": "50a33b59",
   "metadata": {},
   "outputs": [],
   "source": [
    "import smtplib  # To use smtp\n",
    "import random   # Import random library"
   ]
  },
  {
   "cell_type": "code",
   "execution_count": 4,
   "id": "0a4427c3",
   "metadata": {},
   "outputs": [],
   "source": [
    "from email.message import EmailMessage # To use message format"
   ]
  },
  {
   "cell_type": "markdown",
   "id": "02297825",
   "metadata": {},
   "source": [
    "### Step 2. Set participants' emails and their origin and target"
   ]
  },
  {
   "cell_type": "code",
   "execution_count": 5,
   "id": "b8ef0a9c",
   "metadata": {},
   "outputs": [],
   "source": [
    "emails = [\"1@gmail.com\", \"2@gmail.com\", \"3@gmail.com\", \"4@gmail.com\"] # Participants' emails. Don't need to use gmail\n",
    "\n",
    "origin = [\"Ashely\", \"Bale\", \"Christopher\", \"Dallen\"]\n",
    "target = [\"Ashely\", \"Bale\", \"Christopher\", \"Dallen\"]\n",
    "\n",
    "# The sequence of emails, origin and target MUST be same. Later, we will use index number"
   ]
  },
  {
   "cell_type": "markdown",
   "id": "d505da88",
   "metadata": {},
   "source": [
    "### Step 3. Let's shuffle targets"
   ]
  },
  {
   "cell_type": "code",
   "execution_count": 6,
   "id": "eeda1ef6",
   "metadata": {},
   "outputs": [
    {
     "name": "stdout",
     "output_type": "stream",
     "text": [
      "Ashely  =>  Dallen\n",
      "Bale  =>  Christopher\n",
      "Christopher  =>  Ashely\n",
      "Dallen  =>  Bale\n",
      "Done\n"
     ]
    }
   ],
   "source": [
    "while(True):\n",
    "    finish = True\n",
    "    random.shuffle(target) # Shuffle targets\n",
    "    \n",
    "    for i in range(len(origin)): # To check targets shuffle fully\n",
    "        print(origin[i], \" => \", target[i]) # You can check the result. Otherwise, make it as comment\n",
    "        if(origin[i] == target[i]):\n",
    "            print(\"Not shuffled!\")\n",
    "            finish = False # Not shuffle fully. Let's shuffle again\n",
    "            break\n",
    "    if(finish):\n",
    "        break\n",
    "print(\"Done\")     "
   ]
  },
  {
   "cell_type": "markdown",
   "id": "5ceaf2d0",
   "metadata": {},
   "source": [
    "### Step 4. Send results to each person"
   ]
  },
  {
   "cell_type": "code",
   "execution_count": null,
   "id": "cd045011",
   "metadata": {},
   "outputs": [],
   "source": [
    "for i in range(len(origin)):\n",
    "    \n",
    "    # We will use gmail's smtp\n",
    "    smtp_gmail = smtplib.SMTP('smtp.gmail.com', 587)\n",
    "    \n",
    "    # Steps to establish a server connection\n",
    "    smtp_gmail.ehlo()\n",
    " \n",
    "    # Encrypt the connection\n",
    "    smtp_gmail.starttls()\n",
    " \n",
    "    # Login\n",
    "    smtp_gmail.login('youremail@gmail.com','YOUR_PASSWORD') # You should change this line to yours\n",
    "    \n",
    "    msg=EmailMessage() # Make message \n",
    "\n",
    "    title = origin[i] + \"'s manitto result\" # It will be the title of the email\n",
    "\n",
    "    content = origin[i] + \"'s manitto is \" + target[i] # It will be the content of the email\n",
    "    \n",
    "    # Get origin's email\n",
    "    email = emails[i]\n",
    "\n",
    "    # Set title\n",
    "    msg['Subject']= title\n",
    "\n",
    "    # Set content\n",
    "    msg.set_content(content)\n",
    "\n",
    "    # Set from\n",
    "    msg['From']='youremail@gmail.com'\n",
    "\n",
    "    # Set to\n",
    "    msg['To']= email\n",
    "\n",
    "    smtp_gmail.send_message(msg)"
   ]
  }
 ],
 "metadata": {
  "kernelspec": {
   "display_name": "Python 3 (ipykernel)",
   "language": "python",
   "name": "python3"
  },
  "language_info": {
   "codemirror_mode": {
    "name": "ipython",
    "version": 3
   },
   "file_extension": ".py",
   "mimetype": "text/x-python",
   "name": "python",
   "nbconvert_exporter": "python",
   "pygments_lexer": "ipython3",
   "version": "3.10.4"
  }
 },
 "nbformat": 4,
 "nbformat_minor": 5
}
